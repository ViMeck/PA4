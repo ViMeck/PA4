{
 "cells": [
  {
   "cell_type": "markdown",
   "id": "e520cde2",
   "metadata": {},
   "source": [
    "# Working with If Statements\n",
    "### Zoe Mecklenburg"
   ]
  },
  {
   "cell_type": "markdown",
   "id": "11d2d033",
   "metadata": {},
   "source": [
    "#### Grade Calculator"
   ]
  },
  {
   "cell_type": "code",
   "execution_count": 17,
   "id": "14429e2b",
   "metadata": {},
   "outputs": [
    {
     "name": "stdout",
     "output_type": "stream",
     "text": [
      "The class average is a 69.4.\n",
      "The average is a D.\n"
     ]
    }
   ],
   "source": [
    "grades=(50,97,78,80,42)\n",
    "ave=sum(grades)\n",
    "num=len(grades)\n",
    "average=ave/num\n",
    "print(f\"The class average is a {average}.\")\n",
    "if average>=90:\n",
    "    print(\"The average is an A.\")\n",
    "elif average>=80:\n",
    "    print(\"The average is a B.\")\n",
    "elif average>=70:\n",
    "    print(\"The average is a C.\")\n",
    "elif average>=60:\n",
    "    print(\"The average is a D.\")\n",
    "else:\n",
    "    print(\"The average is an F.\")"
   ]
  },
  {
   "cell_type": "markdown",
   "id": "0096d9ef",
   "metadata": {},
   "source": [
    "#### Tuple Unpacking"
   ]
  },
  {
   "cell_type": "code",
   "execution_count": 18,
   "id": "b49cf6f4",
   "metadata": {},
   "outputs": [
    {
     "name": "stdout",
     "output_type": "stream",
     "text": [
      "You are an adult\n"
     ]
    }
   ],
   "source": [
    "student=['Zoe','Mecklenburg',20,'Python']\n",
    "age=student[2]\n",
    "if age>=18:\n",
    "    print(\"You are an adult\")\n",
    "else:\n",
    "    print(\"You are a minor\")"
   ]
  },
  {
   "cell_type": "markdown",
   "id": "99577803",
   "metadata": {},
   "source": [
    "#### Month and Date"
   ]
  },
  {
   "cell_type": "code",
   "execution_count": 20,
   "id": "8bc7e1f1",
   "metadata": {},
   "outputs": [
    {
     "name": "stdout",
     "output_type": "stream",
     "text": [
      "What month is it? (enter number) 6\n",
      "There are 30 days in month 6.\n"
     ]
    }
   ],
   "source": [
    "month=int(input(\"What month is it? (enter number) \"))\n",
    "if month==1 or month==3 or month==5 or month==7 or month==8 or month==10 or month==12:\n",
    "    print(f\"There are 31 days in month {month}.\")\n",
    "elif month==2:\n",
    "    print(f\"There are 28 days in month {month}.\")\n",
    "elif month==4 or month==6 or month==9 or month==11:\n",
    "    print(f\"There are 30 days in month {month}.\")\n",
    "else:\n",
    "    print(f\"There is no month {month}.\")"
   ]
  },
  {
   "cell_type": "markdown",
   "id": "c8180b97",
   "metadata": {},
   "source": [
    "#### Triangle"
   ]
  },
  {
   "cell_type": "code",
   "execution_count": 23,
   "id": "55df5b2e",
   "metadata": {},
   "outputs": [
    {
     "name": "stdout",
     "output_type": "stream",
     "text": [
      "Give three sides of a triangle.\n",
      "A: 6\n",
      "B: 5\n",
      "C: 4\n",
      "This triangle is scalene.\n"
     ]
    }
   ],
   "source": [
    "print(\"Give three sides of a triangle.\")\n",
    "A=int(input(\"A: \"))\n",
    "B=int(input(\"B: \"))\n",
    "C=int(input(\"C: \"))\n",
    "if A==B and B==C and C==A:\n",
    "    print(\"This triangle is equilateral.\")\n",
    "elif A==B or B==C or C==A:\n",
    "    print(\"This triangle is isosceles.\")\n",
    "else:\n",
    "    print(\"This triangle is scalene.\")"
   ]
  },
  {
   "cell_type": "code",
   "execution_count": null,
   "id": "b3edefa0",
   "metadata": {},
   "outputs": [],
   "source": []
  }
 ],
 "metadata": {
  "kernelspec": {
   "display_name": "Python 3 (ipykernel)",
   "language": "python",
   "name": "python3"
  },
  "language_info": {
   "codemirror_mode": {
    "name": "ipython",
    "version": 3
   },
   "file_extension": ".py",
   "mimetype": "text/x-python",
   "name": "python",
   "nbconvert_exporter": "python",
   "pygments_lexer": "ipython3",
   "version": "3.11.4"
  }
 },
 "nbformat": 4,
 "nbformat_minor": 5
}
